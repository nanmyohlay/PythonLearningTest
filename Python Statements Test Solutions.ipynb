{
 "cells": [
  {
   "cell_type": "code",
   "execution_count": 6,
   "metadata": {},
   "outputs": [
    {
     "data": {
      "text/plain": [
       "'Sam Print only the words that start with s in this sentence'"
      ]
     },
     "execution_count": 6,
     "metadata": {},
     "output_type": "execute_result"
    }
   ],
   "source": [
    "st= 'Sam Print only the words that start with s in this sentence'\n",
    "st"
   ]
  },
  {
   "cell_type": "code",
   "execution_count": 7,
   "metadata": {},
   "outputs": [
    {
     "data": {
      "text/plain": [
       "['Sam',\n",
       " 'Print',\n",
       " 'only',\n",
       " 'the',\n",
       " 'words',\n",
       " 'that',\n",
       " 'start',\n",
       " 'with',\n",
       " 's',\n",
       " 'in',\n",
       " 'this',\n",
       " 'sentence']"
      ]
     },
     "execution_count": 7,
     "metadata": {},
     "output_type": "execute_result"
    }
   ],
   "source": [
    "st.split()\n"
   ]
  },
  {
   "cell_type": "code",
   "execution_count": 11,
   "metadata": {},
   "outputs": [
    {
     "name": "stdout",
     "output_type": "stream",
     "text": [
      "Sam\n",
      "start\n",
      "s\n",
      "sentence\n"
     ]
    }
   ],
   "source": [
    "for word in st.split():\n",
    "    if word[0]=='s' or word[0]=='S':\n",
    "        print(word)"
   ]
  },
  {
   "cell_type": "code",
   "execution_count": 12,
   "metadata": {},
   "outputs": [
    {
     "name": "stdout",
     "output_type": "stream",
     "text": [
      "0\n",
      "2\n",
      "4\n",
      "6\n",
      "8\n",
      "10\n"
     ]
    }
   ],
   "source": [
    "for data in range(0,11,2):\n",
    "    print(data)"
   ]
  },
  {
   "cell_type": "code",
   "execution_count": 13,
   "metadata": {},
   "outputs": [
    {
     "data": {
      "text/plain": [
       "[0, 2, 4, 6, 8, 10]"
      ]
     },
     "execution_count": 13,
     "metadata": {},
     "output_type": "execute_result"
    }
   ],
   "source": [
    "list(range(0,11,2))"
   ]
  },
  {
   "cell_type": "code",
   "execution_count": 14,
   "metadata": {},
   "outputs": [
    {
     "name": "stdout",
     "output_type": "stream",
     "text": [
      "0\n",
      "3\n",
      "6\n",
      "9\n",
      "12\n",
      "15\n",
      "18\n",
      "21\n",
      "24\n",
      "27\n",
      "30\n",
      "33\n",
      "36\n",
      "39\n",
      "42\n",
      "45\n",
      "48\n"
     ]
    }
   ],
   "source": [
    "for data in range(0,51):\n",
    "    if data%3 ==0:\n",
    "        print(data)"
   ]
  },
  {
   "cell_type": "code",
   "execution_count": 19,
   "metadata": {},
   "outputs": [
    {
     "data": {
      "text/plain": [
       "[3, 6, 9, 12, 15, 18, 21, 24, 27, 30, 33, 36, 39, 42, 45, 48]"
      ]
     },
     "execution_count": 19,
     "metadata": {},
     "output_type": "execute_result"
    }
   ],
   "source": [
    "[data for data in range(1,51) if data%3 ==0 ]"
   ]
  },
  {
   "cell_type": "code",
   "execution_count": 21,
   "metadata": {},
   "outputs": [
    {
     "data": {
      "text/plain": [
       "'Print every word in this sentence that has an even number of letters'"
      ]
     },
     "execution_count": 21,
     "metadata": {},
     "output_type": "execute_result"
    }
   ],
   "source": [
    "st = 'Print every word in this sentence that has an even number of letters'\n",
    "st"
   ]
  },
  {
   "cell_type": "code",
   "execution_count": 22,
   "metadata": {},
   "outputs": [
    {
     "name": "stdout",
     "output_type": "stream",
     "text": [
      "word\n",
      "in\n",
      "this\n",
      "sentence\n",
      "that\n",
      "an\n",
      "even\n",
      "number\n",
      "of\n"
     ]
    }
   ],
   "source": [
    "for data in st.split():\n",
    "    if len(data)%2 ==0:\n",
    "        print(data)"
   ]
  },
  {
   "cell_type": "code",
   "execution_count": 29,
   "metadata": {},
   "outputs": [
    {
     "name": "stdout",
     "output_type": "stream",
     "text": [
      "1\n",
      "2\n",
      "Fizz\n",
      "4\n",
      "Bizz\n",
      "Fizz\n",
      "7\n",
      "8\n",
      "Fizz\n",
      "Bizz\n",
      "11\n",
      "Fizz\n",
      "13\n",
      "14\n",
      "FizzBizz\n",
      "16\n",
      "17\n",
      "Fizz\n",
      "19\n",
      "Bizz\n",
      "Fizz\n",
      "22\n",
      "23\n",
      "Fizz\n",
      "Bizz\n",
      "26\n",
      "Fizz\n",
      "28\n",
      "29\n",
      "FizzBizz\n",
      "31\n",
      "32\n",
      "Fizz\n",
      "34\n",
      "Bizz\n",
      "Fizz\n",
      "37\n",
      "38\n",
      "Fizz\n",
      "Bizz\n",
      "41\n",
      "Fizz\n",
      "43\n",
      "44\n",
      "FizzBizz\n",
      "46\n",
      "47\n",
      "Fizz\n",
      "49\n",
      "Bizz\n",
      "Fizz\n",
      "52\n",
      "53\n",
      "Fizz\n",
      "Bizz\n",
      "56\n",
      "Fizz\n",
      "58\n",
      "59\n",
      "FizzBizz\n",
      "61\n",
      "62\n",
      "Fizz\n",
      "64\n",
      "Bizz\n",
      "Fizz\n",
      "67\n",
      "68\n",
      "Fizz\n",
      "Bizz\n",
      "71\n",
      "Fizz\n",
      "73\n",
      "74\n",
      "FizzBizz\n",
      "76\n",
      "77\n",
      "Fizz\n",
      "79\n",
      "Bizz\n",
      "Fizz\n",
      "82\n",
      "83\n",
      "Fizz\n",
      "Bizz\n",
      "86\n",
      "Fizz\n",
      "88\n",
      "89\n",
      "FizzBizz\n",
      "91\n",
      "92\n",
      "Fizz\n",
      "94\n",
      "Bizz\n",
      "Fizz\n",
      "97\n",
      "98\n",
      "Fizz\n"
     ]
    }
   ],
   "source": [
    "for data in range(1,100):\n",
    "    if data%3 ==0 and data%5 ==0:\n",
    "        print(\"FizzBizz\")\n",
    "    elif data%3 ==0:\n",
    "        print('Fizz')\n",
    "    elif data%5 ==0:\n",
    "        print('Bizz')\n",
    "    \n",
    "    else:\n",
    "        print(data)"
   ]
  },
  {
   "cell_type": "code",
   "execution_count": 30,
   "metadata": {},
   "outputs": [
    {
     "data": {
      "text/plain": [
       "['P', 'e', 'w', 'i', 't', 's', 't', 'h', 'a', 'e', 'n', 'o', 'l']"
      ]
     },
     "execution_count": 30,
     "metadata": {},
     "output_type": "execute_result"
    }
   ],
   "source": [
    "st = 'Print every word in this sentence that has an even number of letters'\n",
    "[word[0] for word in st.split()]"
   ]
  },
  {
   "cell_type": "code",
   "execution_count": null,
   "metadata": {},
   "outputs": [],
   "source": []
  }
 ],
 "metadata": {
  "kernelspec": {
   "display_name": "Python 3",
   "language": "python",
   "name": "python3"
  },
  "language_info": {
   "codemirror_mode": {
    "name": "ipython",
    "version": 3
   },
   "file_extension": ".py",
   "mimetype": "text/x-python",
   "name": "python",
   "nbconvert_exporter": "python",
   "pygments_lexer": "ipython3",
   "version": "3.7.6"
  }
 },
 "nbformat": 4,
 "nbformat_minor": 4
}
