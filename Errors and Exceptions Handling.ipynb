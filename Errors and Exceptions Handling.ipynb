{
 "cells": [
  {
   "cell_type": "code",
   "execution_count": 1,
   "metadata": {},
   "outputs": [],
   "source": [
    "def add(number1, number2):\n",
    "    return number1+number2\n"
   ]
  },
  {
   "cell_type": "code",
   "execution_count": 2,
   "metadata": {},
   "outputs": [
    {
     "data": {
      "text/plain": [
       "7"
      ]
     },
     "execution_count": 2,
     "metadata": {},
     "output_type": "execute_result"
    }
   ],
   "source": [
    "add(4,3)"
   ]
  },
  {
   "cell_type": "code",
   "execution_count": 3,
   "metadata": {},
   "outputs": [
    {
     "name": "stdout",
     "output_type": "stream",
     "text": [
      "Please any number: 43\n"
     ]
    }
   ],
   "source": [
    "number1 = 29\n",
    "number2 = input(\"Please any number: \")"
   ]
  },
  {
   "cell_type": "code",
   "execution_count": 14,
   "metadata": {},
   "outputs": [
    {
     "name": "stdout",
     "output_type": "stream",
     "text": [
      "Everything is well\n",
      "40\n"
     ]
    }
   ],
   "source": [
    "try:\n",
    "    result = 10+30\n",
    "except:\n",
    "    print(\"Hey your adding number is wrong\")\n",
    "else:\n",
    "    print(\"Everything is well\")\n",
    "    print(result)"
   ]
  },
  {
   "cell_type": "code",
   "execution_count": 16,
   "metadata": {},
   "outputs": [
    {
     "name": "stdout",
     "output_type": "stream",
     "text": [
      "I run any errors\n"
     ]
    }
   ],
   "source": [
    "try:\n",
    "    f=open('myfile','w')\n",
    "    f.write('SOME LINES I HAVE WRITTEN')\n",
    "except:\n",
    "    print(\"All other exceptions\")\n",
    "finally:\n",
    "    print(\"I run any errors\")"
   ]
  },
  {
   "cell_type": "code",
   "execution_count": 32,
   "metadata": {},
   "outputs": [],
   "source": [
    "def myTest():\n",
    "    while True:\n",
    "        try:\n",
    "            number = int(input(\"please type a number: \"))\n",
    "        except:\n",
    "            print(\"Hey wrong number!!\")\n",
    "            continue\n",
    "        else:\n",
    "            print(\"Yes thank you\")\n",
    "            break\n",
    "        finally:\n",
    "            print(\"woow your are great\")"
   ]
  },
  {
   "cell_type": "code",
   "execution_count": 33,
   "metadata": {},
   "outputs": [
    {
     "name": "stdout",
     "output_type": "stream",
     "text": [
      "please type a number: yug\n",
      "Hey wrong number!!\n",
      "woow your are great\n",
      "please type a number: 5656\n",
      "Yes thank you\n",
      "woow your are great\n"
     ]
    }
   ],
   "source": [
    "myTest()"
   ]
  },
  {
   "cell_type": "code",
   "execution_count": 40,
   "metadata": {},
   "outputs": [],
   "source": [
    "def mytest():\n",
    "    while True:\n",
    "    \n",
    "        try:\n",
    "            result=int(input(\"type a number: \"))\n",
    "        except:\n",
    "            print(\"your are typing the wrong\")\n",
    "            continue\n",
    "        else:\n",
    "            print(\"You are great\")\n",
    "            break\n",
    "        finally:\n",
    "            print(\"Woww wooo Wooo\")"
   ]
  },
  {
   "cell_type": "code",
   "execution_count": 41,
   "metadata": {},
   "outputs": [
    {
     "name": "stdout",
     "output_type": "stream",
     "text": [
      "type a number: dfg\n",
      "your are typing the wrong\n",
      "Woww wooo Wooo\n",
      "type a number: dfg\n",
      "your are typing the wrong\n",
      "Woww wooo Wooo\n",
      "type a number: fg\n",
      "your are typing the wrong\n",
      "Woww wooo Wooo\n",
      "type a number: 23\n",
      "You are great\n",
      "Woww wooo Wooo\n"
     ]
    }
   ],
   "source": [
    "mytest()"
   ]
  },
  {
   "cell_type": "code",
   "execution_count": null,
   "metadata": {},
   "outputs": [],
   "source": []
  }
 ],
 "metadata": {
  "kernelspec": {
   "display_name": "Python 3",
   "language": "python",
   "name": "python3"
  },
  "language_info": {
   "codemirror_mode": {
    "name": "ipython",
    "version": 3
   },
   "file_extension": ".py",
   "mimetype": "text/x-python",
   "name": "python",
   "nbconvert_exporter": "python",
   "pygments_lexer": "ipython3",
   "version": "3.7.6"
  }
 },
 "nbformat": 4,
 "nbformat_minor": 4
}
