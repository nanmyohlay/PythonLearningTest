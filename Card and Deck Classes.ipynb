{
 "cells": [
  {
   "cell_type": "code",
   "execution_count": 36,
   "metadata": {},
   "outputs": [],
   "source": [
    "import random\n",
    "\n",
    "suits =('Hearts','Diamond','Spades','Clubs')\n",
    "ranks =('Two','Three','Four','Five','Six','Seven','Eight','Nine','Ten','Jack','Qween','King','Ace')\n",
    "values ={'Two':2,'Three':3,'Four':4,'Five':5,'Six':6,'Seven':7,'Eight':8,'Nine':9,'Ten':10,'Jack':10,'Qween':10,'King':10,'Ace':11}\n",
    "playing = True"
   ]
  },
  {
   "cell_type": "code",
   "execution_count": 37,
   "metadata": {},
   "outputs": [],
   "source": [
    "class Card:\n",
    "    def __init__(self,suit,rank):\n",
    "        self.suit= suit\n",
    "        self.rank= rank\n",
    "    def __str__(self):\n",
    "        return self.rank+ \" of \" + self.suit"
   ]
  },
  {
   "cell_type": "code",
   "execution_count": 38,
   "metadata": {},
   "outputs": [],
   "source": [
    "class Desk:\n",
    "    def __init__(self):\n",
    "        self.desk= []\n",
    "        for suit in suits:\n",
    "            for rank in ranks:\n",
    "                self.desk.append(Card(suit,rank))\n",
    "    def __str__(self):\n",
    "        desk_comp=''\n",
    "        for card in self.desk:\n",
    "            desk_comp += '\\n'+ card.__str__()\n",
    "        return \"The desk has: \" + desk_comp\n",
    "    def shuffle(self):\n",
    "        random.shuffle(self.desk)\n",
    "    def deal(self):\n",
    "        single_card = self.desk.pop()\n",
    "        return single_card"
   ]
  },
  {
   "cell_type": "code",
   "execution_count": 39,
   "metadata": {},
   "outputs": [],
   "source": [
    "desk = Desk()\n",
    "desk.shuffle()\n"
   ]
  },
  {
   "cell_type": "code",
   "execution_count": 40,
   "metadata": {},
   "outputs": [
    {
     "name": "stdout",
     "output_type": "stream",
     "text": [
      "The desk has: \n",
      "Five of Spades\n",
      "Seven of Diamond\n",
      "Seven of Spades\n",
      "Three of Diamond\n",
      "Five of Clubs\n",
      "Jack of Spades\n",
      "Ace of Diamond\n",
      "Four of Hearts\n",
      "Three of Clubs\n",
      "Five of Diamond\n",
      "Eight of Hearts\n",
      "Ten of Spades\n",
      "Two of Spades\n",
      "Qween of Clubs\n",
      "King of Clubs\n",
      "Ten of Diamond\n",
      "Two of Hearts\n",
      "Qween of Hearts\n",
      "Nine of Spades\n",
      "Eight of Spades\n",
      "Six of Clubs\n",
      "Three of Spades\n",
      "King of Spades\n",
      "Jack of Diamond\n",
      "Four of Clubs\n",
      "Seven of Clubs\n",
      "Two of Diamond\n",
      "Four of Diamond\n",
      "Six of Diamond\n",
      "Jack of Clubs\n",
      "Five of Hearts\n",
      "Six of Spades\n",
      "Ace of Clubs\n",
      "King of Diamond\n",
      "Eight of Clubs\n",
      "Qween of Diamond\n",
      "Ten of Hearts\n",
      "Nine of Diamond\n",
      "Four of Spades\n",
      "Six of Hearts\n",
      "Eight of Diamond\n",
      "Seven of Hearts\n",
      "Ace of Spades\n",
      "Nine of Hearts\n",
      "Ten of Clubs\n",
      "Ace of Hearts\n",
      "Three of Hearts\n",
      "King of Hearts\n",
      "Jack of Hearts\n",
      "Nine of Clubs\n",
      "Two of Clubs\n",
      "Qween of Spades\n"
     ]
    }
   ],
   "source": [
    "print(desk)"
   ]
  },
  {
   "cell_type": "code",
   "execution_count": 41,
   "metadata": {},
   "outputs": [
    {
     "data": {
      "text/plain": [
       "<__main__.Card at 0x2659d6eac08>"
      ]
     },
     "execution_count": 41,
     "metadata": {},
     "output_type": "execute_result"
    }
   ],
   "source": [
    "desk.deal()"
   ]
  },
  {
   "cell_type": "code",
   "execution_count": 43,
   "metadata": {},
   "outputs": [],
   "source": [
    "class Hand:\n",
    "    def __init__(self):\n",
    "        self.cards= []\n",
    "        self.value= 0\n",
    "        self.aces= 0\n",
    "    \n",
    "    def add_card(self,card):\n",
    "        self.cards= append(card)\n",
    "        self.value += values[card.rank]\n",
    "        \n",
    "    def adjust_for_ace(self):\n",
    "        pass\n",
    "        "
   ]
  },
  {
   "cell_type": "code",
   "execution_count": 44,
   "metadata": {},
   "outputs": [],
   "source": [
    "test_play= Hand()"
   ]
  },
  {
   "cell_type": "code",
   "execution_count": 45,
   "metadata": {},
   "outputs": [
    {
     "data": {
      "text/plain": [
       "<__main__.Hand at 0x2659d6d8ac8>"
      ]
     },
     "execution_count": 45,
     "metadata": {},
     "output_type": "execute_result"
    }
   ],
   "source": [
    "test_play"
   ]
  },
  {
   "cell_type": "code",
   "execution_count": null,
   "metadata": {},
   "outputs": [],
   "source": []
  }
 ],
 "metadata": {
  "kernelspec": {
   "display_name": "Python 3",
   "language": "python",
   "name": "python3"
  },
  "language_info": {
   "codemirror_mode": {
    "name": "ipython",
    "version": 3
   },
   "file_extension": ".py",
   "mimetype": "text/x-python",
   "name": "python",
   "nbconvert_exporter": "python",
   "pygments_lexer": "ipython3",
   "version": "3.7.6"
  }
 },
 "nbformat": 4,
 "nbformat_minor": 4
}
